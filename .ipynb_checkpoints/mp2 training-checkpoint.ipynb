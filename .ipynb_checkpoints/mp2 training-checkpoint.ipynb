{
 "cells": [
  {
   "cell_type": "code",
   "execution_count": 3,
   "id": "e33b3ea8",
   "metadata": {},
   "outputs": [],
   "source": [
    "import numpy as np\n",
    "import pandas as pd\n",
    "from keras.preprocessing.image import ImageDataGenerator\n",
    "import os\n",
    "import random \n",
    "import cv2\n",
    "import imutils\n",
    "import random\n",
    "import matplotlib.pyplot as plt\n",
    "import seaborn as sns\n",
    "from sklearn.preprocessing import LabelBinarizer\n",
    "from keras.utils import np_utils\n",
    "from keras.models import Sequential\n",
    "from keras import optimizers\n",
    "from sklearn.preprocessing import LabelBinarizer\n",
    "from keras import backend as K\n",
    "from keras.layers import Dense, Activation, Flatten, Dense,MaxPooling2D, Dropout\n",
    "from keras.layers import Conv2D, MaxPooling2D, BatchNormalization"
   ]
  },
  {
   "cell_type": "code",
   "execution_count": 4,
   "id": "16175e53",
   "metadata": {},
   "outputs": [],
   "source": [
    "dir = r'C:\\Users\\parak\\Desktop\\mini project\\mini project 2\\archive (1)\\dataset\\Train'\n",
    "train_data = []\n",
    "img_size = 32\n",
    "non_chars = [\"#\",\"$\",\"&\",\"@\"]\n",
    "for i in os.listdir(dir):\n",
    "    if i in non_chars:\n",
    "        continue\n",
    "    count = 0\n",
    "    sub_directory = os.path.join(dir,i)\n",
    "    for j in os.listdir(sub_directory):\n",
    "        count+=1\n",
    "        if count > 4000:\n",
    "            break\n",
    "        img = cv2.imread(os.path.join(sub_directory,j),0)\n",
    "        img = cv2.resize(img,(img_size,img_size))\n",
    "        train_data.append([img,i])"
   ]
  },
  {
   "cell_type": "code",
   "execution_count": 31,
   "id": "12606d09",
   "metadata": {},
   "outputs": [
    {
     "data": {
      "text/plain": [
       "140000"
      ]
     },
     "execution_count": 31,
     "metadata": {},
     "output_type": "execute_result"
    }
   ],
   "source": [
    "len(train_data)"
   ]
  },
  {
   "cell_type": "code",
   "execution_count": 6,
   "id": "0573009e",
   "metadata": {},
   "outputs": [],
   "source": [
    "val_dir = r'C:\\Users\\parak\\Desktop\\mini project\\mini project 2\\archive (1)\\dataset\\Validation'\n",
    "val_data = []\n",
    "img_size = 32\n",
    "for i in os.listdir(val_dir):\n",
    "    if i in non_chars:\n",
    "        continue\n",
    "    count = 0\n",
    "    sub_directory = os.path.join(val_dir,i)\n",
    "    for j in os.listdir(sub_directory):\n",
    "        count+=1\n",
    "        if count > 1000:\n",
    "            break\n",
    "        img = cv2.imread(os.path.join(sub_directory,j),0)\n",
    "        img = cv2.resize(img,(img_size,img_size))\n",
    "        val_data.append([img,i])"
   ]
  },
  {
   "cell_type": "code",
   "execution_count": 7,
   "id": "2b02b29d",
   "metadata": {},
   "outputs": [
    {
     "data": {
      "text/plain": [
       "15209"
      ]
     },
     "execution_count": 7,
     "metadata": {},
     "output_type": "execute_result"
    }
   ],
   "source": [
    "len(val_data)"
   ]
  },
  {
   "cell_type": "code",
   "execution_count": 8,
   "id": "f7e9a61e",
   "metadata": {},
   "outputs": [],
   "source": [
    "random.shuffle(train_data)\n",
    "random.shuffle(val_data)"
   ]
  },
  {
   "cell_type": "code",
   "execution_count": 9,
   "id": "965a65f6",
   "metadata": {},
   "outputs": [],
   "source": [
    "train_X = []\n",
    "train_Y = []\n",
    "for features,label in train_data:\n",
    "    train_X.append(features)\n",
    "    train_Y.append(label)"
   ]
  },
  {
   "cell_type": "code",
   "execution_count": 10,
   "id": "0ea616c4",
   "metadata": {},
   "outputs": [],
   "source": [
    "val_X = []\n",
    "val_Y = []\n",
    "for features,label in val_data:\n",
    "    val_X.append(features)\n",
    "    val_Y.append(label)"
   ]
  },
  {
   "cell_type": "code",
   "execution_count": 11,
   "id": "4687440b",
   "metadata": {},
   "outputs": [],
   "source": [
    "LB = LabelBinarizer()\n",
    "train_Y = LB.fit_transform(train_Y)\n",
    "val_Y = LB.fit_transform(val_Y)"
   ]
  },
  {
   "cell_type": "code",
   "execution_count": 12,
   "id": "1032c982",
   "metadata": {},
   "outputs": [],
   "source": [
    "train_X = np.array(train_X)/255.0\n",
    "train_X = train_X.reshape(-1,32,32,1)\n",
    "train_Y = np.array(train_Y)"
   ]
  },
  {
   "cell_type": "code",
   "execution_count": 13,
   "id": "8fa5bb25",
   "metadata": {},
   "outputs": [],
   "source": [
    "val_X = np.array(val_X)/255.0\n",
    "val_X = val_X.reshape(-1,32,32,1)\n",
    "val_Y = np.array(val_Y)"
   ]
  },
  {
   "cell_type": "code",
   "execution_count": 14,
   "id": "8f922c3c",
   "metadata": {},
   "outputs": [
    {
     "name": "stdout",
     "output_type": "stream",
     "text": [
      "(140000, 32, 32, 1) (15209, 32, 32, 1)\n"
     ]
    }
   ],
   "source": [
    "print(train_X.shape,val_X.shape)"
   ]
  },
  {
   "cell_type": "code",
   "execution_count": 15,
   "id": "3458fb23",
   "metadata": {},
   "outputs": [
    {
     "name": "stdout",
     "output_type": "stream",
     "text": [
      "(140000, 35) (15209, 35)\n"
     ]
    }
   ],
   "source": [
    "print(train_Y.shape,val_Y.shape)"
   ]
  },
  {
   "cell_type": "code",
   "execution_count": 16,
   "id": "b635ca01",
   "metadata": {},
   "outputs": [],
   "source": [
    "model = Sequential()\n",
    "\n",
    "model.add(Conv2D(32, (3, 3), padding = \"same\", activation='relu', input_shape=(32,32,1)))\n",
    "model.add(MaxPooling2D(pool_size=(2,2)))\n",
    "model.add(Conv2D(64, (3, 3), activation='relu'))\n",
    "model.add(MaxPooling2D(pool_size=(2,2)))\n",
    "model.add(Conv2D(128, (3, 3), activation='relu'))\n",
    "model.add(MaxPooling2D(pool_size=(2,2)))\n",
    "model.add(Dropout(0.25))\n",
    " \n",
    "model.add(Flatten())\n",
    "model.add(Dense(128, activation='relu'))\n",
    "model.add(Dropout(0.2))\n",
    "model.add(Dense(35, activation='softmax'))"
   ]
  },
  {
   "cell_type": "code",
   "execution_count": 17,
   "id": "f89e7f9b",
   "metadata": {},
   "outputs": [
    {
     "name": "stdout",
     "output_type": "stream",
     "text": [
      "Model: \"sequential\"\n",
      "_________________________________________________________________\n",
      "Layer (type)                 Output Shape              Param #   \n",
      "=================================================================\n",
      "conv2d (Conv2D)              (None, 32, 32, 32)        320       \n",
      "_________________________________________________________________\n",
      "max_pooling2d (MaxPooling2D) (None, 16, 16, 32)        0         \n",
      "_________________________________________________________________\n",
      "conv2d_1 (Conv2D)            (None, 14, 14, 64)        18496     \n",
      "_________________________________________________________________\n",
      "max_pooling2d_1 (MaxPooling2 (None, 7, 7, 64)          0         \n",
      "_________________________________________________________________\n",
      "conv2d_2 (Conv2D)            (None, 5, 5, 128)         73856     \n",
      "_________________________________________________________________\n",
      "max_pooling2d_2 (MaxPooling2 (None, 2, 2, 128)         0         \n",
      "_________________________________________________________________\n",
      "dropout (Dropout)            (None, 2, 2, 128)         0         \n",
      "_________________________________________________________________\n",
      "flatten (Flatten)            (None, 512)               0         \n",
      "_________________________________________________________________\n",
      "dense (Dense)                (None, 128)               65664     \n",
      "_________________________________________________________________\n",
      "dropout_1 (Dropout)          (None, 128)               0         \n",
      "_________________________________________________________________\n",
      "dense_1 (Dense)              (None, 35)                4515      \n",
      "=================================================================\n",
      "Total params: 162,851\n",
      "Trainable params: 162,851\n",
      "Non-trainable params: 0\n",
      "_________________________________________________________________\n"
     ]
    }
   ],
   "source": [
    "model.summary()\n"
   ]
  },
  {
   "cell_type": "code",
   "execution_count": 18,
   "id": "8bbc9cf2",
   "metadata": {},
   "outputs": [],
   "source": [
    "model.compile(loss='categorical_crossentropy', optimizer=\"adam\",metrics=['accuracy'])"
   ]
  },
  {
   "cell_type": "code",
   "execution_count": 19,
   "id": "18d4dbdf",
   "metadata": {},
   "outputs": [
    {
     "name": "stdout",
     "output_type": "stream",
     "text": [
      "Epoch 1/50\n",
      "4375/4375 [==============================] - 106s 24ms/step - loss: 0.5341 - accuracy: 0.8249 - val_loss: 0.6310 - val_accuracy: 0.8519\n",
      "Epoch 2/50\n",
      "4375/4375 [==============================] - 116s 26ms/step - loss: 0.2947 - accuracy: 0.8955 - val_loss: 0.6430 - val_accuracy: 0.8498\n",
      "Epoch 3/50\n",
      "4375/4375 [==============================] - 126s 29ms/step - loss: 0.2549 - accuracy: 0.9079 - val_loss: 0.6610 - val_accuracy: 0.8459\n",
      "Epoch 4/50\n",
      "4375/4375 [==============================] - 125s 29ms/step - loss: 0.2356 - accuracy: 0.9134 - val_loss: 0.5420 - val_accuracy: 0.8778\n",
      "Epoch 5/50\n",
      "4375/4375 [==============================] - 132s 30ms/step - loss: 0.2196 - accuracy: 0.9181 - val_loss: 0.6372 - val_accuracy: 0.8560\n",
      "Epoch 6/50\n",
      "4375/4375 [==============================] - 114s 26ms/step - loss: 0.2106 - accuracy: 0.9214 - val_loss: 0.6161 - val_accuracy: 0.8720\n",
      "Epoch 7/50\n",
      "4375/4375 [==============================] - 110s 25ms/step - loss: 0.2007 - accuracy: 0.9237 - val_loss: 0.5672 - val_accuracy: 0.8871\n",
      "Epoch 8/50\n",
      "4375/4375 [==============================] - 109s 25ms/step - loss: 0.1961 - accuracy: 0.9254 - val_loss: 0.6235 - val_accuracy: 0.8826\n",
      "Epoch 9/50\n",
      "4375/4375 [==============================] - 109s 25ms/step - loss: 0.1900 - accuracy: 0.9280 - val_loss: 0.7108 - val_accuracy: 0.8834\n",
      "Epoch 10/50\n",
      "4375/4375 [==============================] - 109s 25ms/step - loss: 0.1857 - accuracy: 0.9288 - val_loss: 0.6644 - val_accuracy: 0.8644\n",
      "Epoch 11/50\n",
      "4375/4375 [==============================] - 108s 25ms/step - loss: 0.1807 - accuracy: 0.9301 - val_loss: 0.6981 - val_accuracy: 0.8677\n",
      "Epoch 12/50\n",
      "4375/4375 [==============================] - 106s 24ms/step - loss: 0.1782 - accuracy: 0.9304 - val_loss: 0.6985 - val_accuracy: 0.8763\n",
      "Epoch 13/50\n",
      "4375/4375 [==============================] - 106s 24ms/step - loss: 0.1745 - accuracy: 0.9325 - val_loss: 0.7703 - val_accuracy: 0.8603\n",
      "Epoch 14/50\n",
      "4375/4375 [==============================] - 107s 24ms/step - loss: 0.1713 - accuracy: 0.9329 - val_loss: 0.7340 - val_accuracy: 0.8604\n",
      "Epoch 15/50\n",
      "4375/4375 [==============================] - 106s 24ms/step - loss: 0.1702 - accuracy: 0.9332 - val_loss: 0.7350 - val_accuracy: 0.8804\n",
      "Epoch 16/50\n",
      "4375/4375 [==============================] - 106s 24ms/step - loss: 0.1652 - accuracy: 0.9353 - val_loss: 0.7920 - val_accuracy: 0.8752\n",
      "Epoch 17/50\n",
      "4375/4375 [==============================] - 105s 24ms/step - loss: 0.1627 - accuracy: 0.9361 - val_loss: 0.7036 - val_accuracy: 0.8754\n",
      "Epoch 18/50\n",
      "4375/4375 [==============================] - 106s 24ms/step - loss: 0.1633 - accuracy: 0.9358 - val_loss: 0.7652 - val_accuracy: 0.8674\n",
      "Epoch 19/50\n",
      "4375/4375 [==============================] - 106s 24ms/step - loss: 0.1608 - accuracy: 0.9367 - val_loss: 0.7816 - val_accuracy: 0.8667\n",
      "Epoch 20/50\n",
      "4375/4375 [==============================] - 106s 24ms/step - loss: 0.1605 - accuracy: 0.9366 - val_loss: 0.8070 - val_accuracy: 0.8733\n",
      "Epoch 21/50\n",
      "4375/4375 [==============================] - 106s 24ms/step - loss: 0.1567 - accuracy: 0.9376 - val_loss: 0.8509 - val_accuracy: 0.8707\n",
      "Epoch 22/50\n",
      "4375/4375 [==============================] - 106s 24ms/step - loss: 0.1557 - accuracy: 0.9378 - val_loss: 0.8029 - val_accuracy: 0.8770\n",
      "Epoch 23/50\n",
      "4375/4375 [==============================] - 107s 24ms/step - loss: 0.1550 - accuracy: 0.9381 - val_loss: 0.8447 - val_accuracy: 0.8797\n",
      "Epoch 24/50\n",
      "4375/4375 [==============================] - 106s 24ms/step - loss: 0.1519 - accuracy: 0.9389 - val_loss: 0.8380 - val_accuracy: 0.8833\n",
      "Epoch 25/50\n",
      "4375/4375 [==============================] - 106s 24ms/step - loss: 0.1538 - accuracy: 0.9385 - val_loss: 0.8366 - val_accuracy: 0.8788\n",
      "Epoch 26/50\n",
      "4375/4375 [==============================] - 108s 25ms/step - loss: 0.1511 - accuracy: 0.9397 - val_loss: 0.8999 - val_accuracy: 0.8779\n",
      "Epoch 27/50\n",
      "4375/4375 [==============================] - 106s 24ms/step - loss: 0.1517 - accuracy: 0.9397 - val_loss: 0.8985 - val_accuracy: 0.8864\n",
      "Epoch 28/50\n",
      "4375/4375 [==============================] - 107s 24ms/step - loss: 0.1482 - accuracy: 0.9410 - val_loss: 0.8314 - val_accuracy: 0.8841\n",
      "Epoch 29/50\n",
      "4375/4375 [==============================] - 108s 25ms/step - loss: 0.1485 - accuracy: 0.9412 - val_loss: 0.8016 - val_accuracy: 0.8692\n",
      "Epoch 30/50\n",
      "4375/4375 [==============================] - 108s 25ms/step - loss: 0.1495 - accuracy: 0.9405 - val_loss: 0.8897 - val_accuracy: 0.8805\n",
      "Epoch 31/50\n",
      "4375/4375 [==============================] - 111s 25ms/step - loss: 0.1466 - accuracy: 0.9416 - val_loss: 0.8549 - val_accuracy: 0.8694\n",
      "Epoch 32/50\n",
      "4375/4375 [==============================] - 112s 25ms/step - loss: 0.1452 - accuracy: 0.9420 - val_loss: 0.8541 - val_accuracy: 0.8874\n",
      "Epoch 33/50\n",
      "4375/4375 [==============================] - 112s 26ms/step - loss: 0.1477 - accuracy: 0.9414 - val_loss: 0.8522 - val_accuracy: 0.8836\n",
      "Epoch 34/50\n",
      "4375/4375 [==============================] - 112s 25ms/step - loss: 0.1444 - accuracy: 0.9421 - val_loss: 0.9982 - val_accuracy: 0.8693\n",
      "Epoch 35/50\n",
      "4375/4375 [==============================] - 111s 25ms/step - loss: 0.1457 - accuracy: 0.9415 - val_loss: 0.9753 - val_accuracy: 0.8788\n",
      "Epoch 36/50\n",
      "4375/4375 [==============================] - 112s 26ms/step - loss: 0.1460 - accuracy: 0.9417 - val_loss: 0.8764 - val_accuracy: 0.8770\n",
      "Epoch 37/50\n",
      "4375/4375 [==============================] - 104s 24ms/step - loss: 0.1464 - accuracy: 0.9418 - val_loss: 0.9636 - val_accuracy: 0.8760\n",
      "Epoch 38/50\n",
      "4375/4375 [==============================] - 111s 25ms/step - loss: 0.1449 - accuracy: 0.9424 - val_loss: 0.9261 - val_accuracy: 0.8763\n",
      "Epoch 39/50\n",
      "4375/4375 [==============================] - 112s 26ms/step - loss: 0.1424 - accuracy: 0.9429 - val_loss: 0.8567 - val_accuracy: 0.8823\n",
      "Epoch 40/50\n",
      "4375/4375 [==============================] - 112s 26ms/step - loss: 0.1457 - accuracy: 0.9418 - val_loss: 0.9492 - val_accuracy: 0.8770\n",
      "Epoch 41/50\n",
      "4375/4375 [==============================] - 112s 26ms/step - loss: 0.1422 - accuracy: 0.9436 - val_loss: 1.0243 - val_accuracy: 0.8736\n",
      "Epoch 42/50\n",
      "4375/4375 [==============================] - 111s 25ms/step - loss: 0.1443 - accuracy: 0.9428 - val_loss: 0.9336 - val_accuracy: 0.8838\n",
      "Epoch 43/50\n",
      "4375/4375 [==============================] - 111s 25ms/step - loss: 0.1415 - accuracy: 0.9430 - val_loss: 1.0450 - val_accuracy: 0.8845\n",
      "Epoch 44/50\n",
      "4375/4375 [==============================] - 113s 26ms/step - loss: 0.1424 - accuracy: 0.9436 - val_loss: 0.9983 - val_accuracy: 0.8795\n",
      "Epoch 45/50\n",
      "4375/4375 [==============================] - 112s 26ms/step - loss: 0.1401 - accuracy: 0.9441 - val_loss: 0.9925 - val_accuracy: 0.8843\n",
      "Epoch 46/50\n",
      "4375/4375 [==============================] - 112s 26ms/step - loss: 0.1407 - accuracy: 0.9446 - val_loss: 1.0391 - val_accuracy: 0.8751\n",
      "Epoch 47/50\n",
      "4375/4375 [==============================] - 112s 25ms/step - loss: 0.1415 - accuracy: 0.9442 - val_loss: 0.9398 - val_accuracy: 0.8818\n",
      "Epoch 48/50\n",
      "4375/4375 [==============================] - 111s 25ms/step - loss: 0.1428 - accuracy: 0.9431 - val_loss: 1.1223 - val_accuracy: 0.8761\n",
      "Epoch 49/50\n",
      "4375/4375 [==============================] - 111s 25ms/step - loss: 0.1396 - accuracy: 0.9446 - val_loss: 0.9984 - val_accuracy: 0.8761\n",
      "Epoch 50/50\n",
      "4375/4375 [==============================] - 111s 25ms/step - loss: 0.1409 - accuracy: 0.9441 - val_loss: 1.0868 - val_accuracy: 0.8777\n"
     ]
    }
   ],
   "source": [
    "history = model.fit(train_X,train_Y, epochs=50, batch_size=32, validation_data = (val_X, val_Y),  verbose=1)"
   ]
  },
  {
   "cell_type": "code",
   "execution_count": 20,
   "id": "3ae989fb",
   "metadata": {},
   "outputs": [
    {
     "data": {
      "image/png": "[encoded data removed]",
      "text/plain": [
       "<Figure size 432x288 with 1 Axes>"
      ]
     },
     "metadata": {
      "needs_background": "light"
     },
     "output_type": "display_data"
    }
   ],
   "source": [
    "plt.plot(history.history['accuracy'])\n",
    "plt.plot(history.history['val_accuracy'])\n",
    "plt.title('Training Accuracy vs Validation Accuracy')\n",
    "plt.ylabel('Accuracy')\n",
    "plt.xlabel('Epoch')\n",
    "plt.legend(['Train', 'Validation'], loc='upper left')\n",
    "plt.show()"
   ]
  },
  {
   "cell_type": "code",
   "execution_count": 22,
   "id": "f07f926d",
   "metadata": {},
   "outputs": [
    {
     "data": {
      "image/png": "[encoded data removed]",
      "text/plain": [
       "<Figure size 432x288 with 1 Axes>"
      ]
     },
     "metadata": {
      "needs_background": "light"
     },
     "output_type": "display_data"
    }
   ],
   "source": [
    "plt.plot(history.history['loss'])\n",
    "plt.plot(history.history['val_loss'])\n",
    "plt.title('Training Loss vs Validation Loss')\n",
    "plt.ylabel('Loss')\n",
    "plt.xlabel('Epoch')\n",
    "plt.legend(['Train', 'Validation'], loc='upper left')\n",
    "plt.show()"
   ]
  },
  {
   "cell_type": "markdown",
   "id": "d2237a98",
   "metadata": {},
   "source": [
    "# Recognition and Post-Processing"
   ]
  },
  {
   "cell_type": "code",
   "execution_count": 23,
   "id": "f84d9473",
   "metadata": {},
   "outputs": [],
   "source": [
    "def sort_contours(cnts, method=\"left-to-right\"):\n",
    "    reverse = False\n",
    "    i = 0\n",
    "    if method == \"right-to-left\" or method == \"bottom-to-top\":\n",
    "        reverse = True\n",
    "    if method == \"top-to-bottom\" or method == \"bottom-to-top\":\n",
    "        i = 1\n",
    "    boundingBoxes = [cv2.boundingRect(c) for c in cnts]\n",
    "    (cnts, boundingBoxes) = zip(*sorted(zip(cnts, boundingBoxes),\n",
    "    key=lambda b:b[1][i], reverse=reverse))\n",
    "    # return the list of sorted contours and bounding boxes\n",
    "    return (cnts, boundingBoxes)"
   ]
  },
  {
   "cell_type": "code",
   "execution_count": 26,
   "id": "bce45775",
   "metadata": {},
   "outputs": [],
   "source": [
    "def get_letters(img):\n",
    "    letters = []\n",
    "    image = cv2.imread(img)\n",
    "    gray = cv2.cvtColor(image, cv2.COLOR_BGR2GRAY)\n",
    "    ret,thresh1 = cv2.threshold(gray ,127,255,cv2.THRESH_BINARY_INV)\n",
    "    dilated = cv2.dilate(thresh1, None, iterations=2)\n",
    "\n",
    "    cnts = cv2.findContours(dilated.copy(), cv2.RETR_EXTERNAL,cv2.CHAIN_APPROX_SIMPLE)\n",
    "    cnts = imutils.grab_contours(cnts)\n",
    "    cnts = sort_contours(cnts, method=\"left-to-right\")[0]\n",
    "    # loop over the contours\n",
    "    for c in cnts:\n",
    "        if cv2.contourArea(c) > 10:\n",
    "            (x, y, w, h) = cv2.boundingRect(c)\n",
    "            cv2.rectangle(image, (x, y), (x + w, y + h), (0, 255, 0), 2)\n",
    "        roi = gray[y:y + h, x:x + w]\n",
    "        thresh = cv2.threshold(roi, 0, 255,cv2.THRESH_BINARY_INV | cv2.THRESH_OTSU)[1]\n",
    "        thresh = cv2.resize(thresh, (32, 32), interpolation = cv2.INTER_CUBIC)\n",
    "        thresh = thresh.astype(\"float32\") / 255.0\n",
    "        thresh = np.expand_dims(thresh, axis=-1)\n",
    "        thresh = thresh.reshape(1,32,32,1)\n",
    "        ypred = model.predict(thresh)\n",
    "        ypred = LB.inverse_transform(ypred)\n",
    "        [x] = ypred\n",
    "        letters.append(x)\n",
    "    return letters, image\n",
    "\n",
    "#plt.imshow(image)"
   ]
  },
  {
   "cell_type": "code",
   "execution_count": 27,
   "id": "01951f70",
   "metadata": {},
   "outputs": [],
   "source": [
    "def get_word(letter):\n",
    "    word = \"\".join(letter)\n",
    "    return word"
   ]
  },
  {
   "cell_type": "code",
   "execution_count": 28,
   "id": "f89fdbdf",
   "metadata": {},
   "outputs": [
    {
     "name": "stdout",
     "output_type": "stream",
     "text": [
      "BEWES\n"
     ]
    },
    {
     "data": {
      "text/plain": [
       "<matplotlib.image.AxesImage at 0x1e34adbab20>"
      ]
     },
     "execution_count": 28,
     "metadata": {},
     "output_type": "execute_result"
    },
    {
     "data": {
      "image/png": "[encoded data removed]",
      "text/plain": [
       "<Figure size 432x288 with 1 Axes>"
      ]
     },
     "metadata": {
      "needs_background": "light"
     },
     "output_type": "display_data"
    }
   ],
   "source": [
    "letter,image = get_letters(r'C:\\Users\\parak\\Desktop\\mini project\\mini project 2\\train_v2\\train\\TRAIN_00003.jpg')\n",
    "word = get_word(letter)\n",
    "print(word)\n",
    "plt.imshow(image)"
   ]
  },
  {
   "cell_type": "code",
   "execution_count": 29,
   "id": "1831f1f1",
   "metadata": {},
   "outputs": [
    {
     "name": "stdout",
     "output_type": "stream",
     "text": [
      "LIL0U\n"
     ]
    },
    {
     "data": {
      "text/plain": [
       "<matplotlib.image.AxesImage at 0x1e34ada1820>"
      ]
     },
     "execution_count": 29,
     "metadata": {},
     "output_type": "execute_result"
    },
    {
     "data": {
      "image/png": "[encoded data removed]",
      "text/plain": [
       "<Figure size 432x288 with 1 Axes>"
      ]
     },
     "metadata": {
      "needs_background": "light"
     },
     "output_type": "display_data"
    }
   ],
   "source": [
    "letter,image = get_letters(r'C:\\Users\\parak\\Desktop\\mini project\\mini project 2\\train_v2\\train\\TRAIN_00023.jpg')\n",
    "word = get_word(letter)\n",
    "print(word)\n",
    "plt.imshow(image)"
   ]
  },
  {
   "cell_type": "code",
   "execution_count": 30,
   "id": "90266720",
   "metadata": {},
   "outputs": [
    {
     "name": "stdout",
     "output_type": "stream",
     "text": [
      "JAFFELX\n"
     ]
    },
    {
     "data": {
      "text/plain": [
       "<matplotlib.image.AxesImage at 0x1e34add2f70>"
      ]
     },
     "execution_count": 30,
     "metadata": {},
     "output_type": "execute_result"
    },
    {
     "data": {
      "image/png": "[encoded data removed]",
      "text/plain": [
       "<Figure size 432x288 with 1 Axes>"
      ]
     },
     "metadata": {
      "needs_background": "light"
     },
     "output_type": "display_data"
    }
   ],
   "source": [
    "letter,image = get_letters(r'C:\\Users\\parak\\Desktop\\mini project\\mini project 2\\train_v2\\train\\TRAIN_00030.jpg')\n",
    "word = get_word(letter)\n",
    "print(word)\n",
    "plt.imshow(image)"
   ]
  }
 ],
 "metadata": {
  "kernelspec": {
   "display_name": "Python 3",
   "language": "python",
   "name": "python3"
  },
  "language_info": {
   "codemirror_mode": {
    "name": "ipython",
    "version": 3
   },
   "file_extension": ".py",
   "mimetype": "text/x-python",
   "name": "python",
   "nbconvert_exporter": "python",
   "pygments_lexer": "ipython3",
   "version": "3.8.8"
  }
 },
 "nbformat": 4,
 "nbformat_minor": 5
}
